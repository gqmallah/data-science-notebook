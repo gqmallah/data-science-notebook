{
 "cells": [
  {
   "cell_type": "markdown",
   "id": "19ab8f6f",
   "metadata": {},
   "source": [
    "# Data Science Tools and Ecosystem"
   ]
  },
  {
   "cell_type": "markdown",
   "id": "bfc3c40c",
   "metadata": {},
   "source": [
    "In this notebook, we summarize the Data Science Tools and Ecosystem, providing insights into the various technologies and methodologies used in the field."
   ]
  },
  {
   "cell_type": "markdown",
   "id": "93407b54",
   "metadata": {},
   "source": [
    "## Popular Data Science Languages\n",
    "\n",
    "Some of the popular languages that Data Scientists use are:\n",
    "1. Python - Widely used due to its simplicity and powerful libraries.\n",
    "2. R - Preferred for statistical analysis and visualizations.\n",
    "3. SQL - Essential for data querying in relational databases.\n"
   ]
  },
  {
   "cell_type": "markdown",
   "id": "38668a1a",
   "metadata": {},
   "source": [
    "## Commonly Used Data Science Libraries\n",
    "\n",
    "Some of the commonly used libraries by Data Scientists include:\n",
    "1. Pandas - Provides extensive tools for data manipulation and analysis.\n",
    "2. NumPy - Essential for numerical computing with Python.\n",
    "3. Matplotlib - Used for creating static, interactive, and animated visualizations in Python.\n"
   ]
  },
  {
   "cell_type": "markdown",
   "id": "6daa8b1d",
   "metadata": {},
   "source": [
    "## Data Science Tools\n",
    "\n",
    "| Data Science Tools |\n",
    "|--------------------|\n",
    "| Jupyter Notebook   |\n",
    "| RStudio            |\n",
    "| Apache Zeppelin    |\n"
   ]
  },
  {
   "cell_type": "markdown",
   "id": "88f539c2",
   "metadata": {},
   "source": [
    "### Below are a few examples of evaluating arithmetic expressions in Python\n",
    "\n",
    "In the following sections, we will demonstrate simple arithmetic operations such as addition, subtraction, multiplication, and division using Python code.\n"
   ]
  },
  {
   "cell_type": "code",
   "execution_count": 1,
   "id": "d1a662f1",
   "metadata": {},
   "outputs": [
    {
     "name": "stdout",
     "output_type": "stream",
     "text": [
      "17\n"
     ]
    }
   ],
   "source": [
    "# This is a simple arithmetic expression to multiply then add integers\n",
    "result = (3 * 4) + 5\n",
    "print(result)\n"
   ]
  },
  {
   "cell_type": "code",
   "execution_count": 2,
   "id": "41d1f88c",
   "metadata": {},
   "outputs": [
    {
     "name": "stdout",
     "output_type": "stream",
     "text": [
      "200 minutes is equal to 3.3333333333333335 hours.\n"
     ]
    }
   ],
   "source": [
    "# This will convert 200 minutes to hours by dividing by 60\n",
    "minutes = 200\n",
    "hours = minutes / 60\n",
    "print(f\"{minutes} minutes is equal to {hours} hours.\")\n"
   ]
  },
  {
   "cell_type": "markdown",
   "id": "ea25434b",
   "metadata": {},
   "source": [
    "**Objectives:**\n",
    "\n",
    "- List popular languages for Data Science.\n",
    "- Describe commonly used Data Science libraries.\n",
    "- Display a table of essential Data Science tools.\n",
    "- Provide examples of basic arithmetic expressions in Python.\n",
    "- Demonstrate how to convert minutes to hours using Python.\n"
   ]
  },
  {
   "cell_type": "markdown",
   "id": "614b6159",
   "metadata": {},
   "source": [
    "## Author\n",
    "Ghulam Qadir Mirbahar"
   ]
  },
  {
   "cell_type": "code",
   "execution_count": null,
   "id": "71059437",
   "metadata": {},
   "outputs": [],
   "source": []
  }
 ],
 "metadata": {
  "kernelspec": {
   "display_name": "Python 3 (ipykernel)",
   "language": "python",
   "name": "python3"
  },
  "language_info": {
   "codemirror_mode": {
    "name": "ipython",
    "version": 3
   },
   "file_extension": ".py",
   "mimetype": "text/x-python",
   "name": "python",
   "nbconvert_exporter": "python",
   "pygments_lexer": "ipython3",
   "version": "3.11.5"
  }
 },
 "nbformat": 4,
 "nbformat_minor": 5
}
